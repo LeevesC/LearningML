{
 "cells": [
  {
   "attachments": {},
   "cell_type": "markdown",
   "metadata": {},
   "source": [
    "### Elementwise Operations"
   ]
  },
  {
   "cell_type": "code",
   "execution_count": 9,
   "metadata": {},
   "outputs": [
    {
     "name": "stdout",
     "output_type": "stream",
     "text": [
      "[2.2 4.3 7.5 9.6]\n",
      "[ 1.2  4.6 13.5 22.4]\n",
      "[0.83333333 0.86956522 0.66666667 0.71428571]\n",
      "[1.00000000e+00 4.92457765e+00 1.40296115e+02 2.35253423e+03]\n",
      "[10 20 30 40]\n"
     ]
    }
   ],
   "source": [
    "import numpy as np\n",
    "\n",
    "a = np.array([1,2,3,4])\n",
    "f = np.array([1.2, 2.3, 4.5, 5.6])\n",
    "\n",
    "print(a+f)\n",
    "print(a*f)\n",
    "print(a/f)\n",
    "print(a**f)\n",
    "print(a*10)"
   ]
  },
  {
   "attachments": {},
   "cell_type": "markdown",
   "metadata": {},
   "source": [
    "### Universal Functions (ufuncs)"
   ]
  },
  {
   "cell_type": "code",
   "execution_count": 10,
   "metadata": {},
   "outputs": [
    {
     "name": "stdout",
     "output_type": "stream",
     "text": [
      "[0.5 0.7 0.8 0.9]\n",
      "[28.64788976 40.10704566 45.83662361 51.56620156]\n",
      "[0.47942554 0.64421769 0.71735609 0.78332691]\n"
     ]
    }
   ],
   "source": [
    "radian = np.array([0.5, 0.7, 0.8, 0.9])\n",
    "degree = np.rad2deg(radian) # convert radians to the angle in degrees\n",
    "# 1 radian is equal to (180/π) degrees, or approximately 57.2958 degrees.\n",
    "# 1 degree is equal to (π/180) radians, or approximately 0.0174533 radians.\n",
    "print(radian)\n",
    "print(degree)\n",
    "print(np.sin(radian))"
   ]
  },
  {
   "attachments": {},
   "cell_type": "markdown",
   "metadata": {},
   "source": [
    "### Multi-Dimensional arrays"
   ]
  },
  {
   "cell_type": "code",
   "execution_count": 11,
   "metadata": {},
   "outputs": [
    {
     "name": "stdout",
     "output_type": "stream",
     "text": [
      "(2, 4)\n",
      "8\n",
      "2\n",
      "13\n",
      "0\n"
     ]
    }
   ],
   "source": [
    "a = np.array([\n",
    "    [0,1,2,3],\n",
    "    [10,11,12,13]\n",
    "    ])\n",
    "print(a.shape) # shape = (rows, columns)\n",
    "print(a.size) # element count\n",
    "print(a.ndim) # number of dimensions\n",
    "# set / get elements\n",
    "print(a[1,3]) # get the element at the 1st row and 3rd column\n",
    "a[1,3] = 0 # set new value for it\n",
    "print(a[1,3])"
   ]
  },
  {
   "attachments": {},
   "cell_type": "markdown",
   "metadata": {},
   "source": [
    "### Slicing"
   ]
  },
  {
   "cell_type": "code",
   "execution_count": 12,
   "metadata": {},
   "outputs": [
    {
     "name": "stdout",
     "output_type": "stream",
     "text": [
      "[11 12]\n",
      "[11 12]\n",
      "[11 12]\n",
      "[10 11 12]\n",
      "[13 14]\n",
      "[10 12 14]\n"
     ]
    }
   ],
   "source": [
    "a = np.array([10,11,12,13,14])\n",
    "print(a[1:3])\n",
    "print(a[1:-2])\n",
    "print(a[-4:3])\n",
    "# omitting indices\n",
    "print(a[:3])\n",
    "print(a[-2:])\n",
    "print(a[::2]) # every other element"
   ]
  },
  {
   "cell_type": "code",
   "execution_count": 13,
   "metadata": {},
   "outputs": [
    {
     "name": "stdout",
     "output_type": "stream",
     "text": [
      "[2 3]\n",
      "[[33 34]\n",
      " [43 44]]\n",
      "[[20 22 24]\n",
      " [40 42 44]]\n"
     ]
    }
   ],
   "source": [
    "# multi-dimension slicing\n",
    "a = np.array([\n",
    "    [0,1,2,3,4],\n",
    "    [10,11,12,13,14],\n",
    "    [20,21,22,23,24],\n",
    "    [30,31,32,33,34],\n",
    "    [40,41,42,43,44]\n",
    "])\n",
    "\n",
    "print(a[0, 2:4]) # output the 0th row\n",
    "print(a[3:, 3:]) # output from 3rd row to end and 3rd column to end\n",
    "print(a[2::2,::2]) # strided are also possible"
   ]
  },
  {
   "attachments": {},
   "cell_type": "markdown",
   "metadata": {},
   "source": [
    "### Creating a array with fast way"
   ]
  },
  {
   "cell_type": "code",
   "execution_count": 14,
   "metadata": {},
   "outputs": [
    {
     "name": "stdout",
     "output_type": "stream",
     "text": [
      "[[ 0  1  2  3  4]\n",
      " [ 5  6  7  8  9]\n",
      " [10 11 12 13 14]\n",
      " [15 16 17 18 19]\n",
      " [20 21 22 23 24]]\n"
     ]
    }
   ],
   "source": [
    "a = np.arange(25).reshape(5,5)\n",
    "print(a)"
   ]
  },
  {
   "cell_type": "code",
   "execution_count": 18,
   "metadata": {},
   "outputs": [
    {
     "name": "stdout",
     "output_type": "stream",
     "text": [
      "[[ 1  3]\n",
      " [ 6  8]\n",
      " [11 13]\n",
      " [16 18]\n",
      " [21 23]]\n",
      "[20 21 22 23 24]\n",
      "[20 21 22 23 24]\n",
      "[[ 5  7]\n",
      " [15 17]]\n"
     ]
    }
   ],
   "source": [
    "# how to extract a specific column value\n",
    "print(a[::,1::2]) # extract the 1st column and 3rd column\n",
    "print(a[-1,:]) # extract the 4th row\n",
    "print(a[4]) # extract the last row\n",
    "print(a[1::2,:-1:2]) # extract elements with skip"
   ]
  },
  {
   "cell_type": "code",
   "execution_count": 25,
   "metadata": {},
   "outputs": [
    {
     "name": "stdout",
     "output_type": "stream",
     "text": [
      "[1 2 3 4]\n",
      "[1 2]\n",
      "[-1  2]\n",
      "[-1  2  3  4]\n"
     ]
    }
   ],
   "source": [
    "# share the same address\n",
    "a = np.array([1,2,3,4])\n",
    "b = a[:2]\n",
    "print(a)\n",
    "print(b)\n",
    "b[0] = -1\n",
    "print(b)\n",
    "print(a)"
   ]
  },
  {
   "cell_type": "code",
   "execution_count": 27,
   "metadata": {},
   "outputs": [
    {
     "name": "stdout",
     "output_type": "stream",
     "text": [
      "[ 1  2  3 -1 -2]\n",
      "[ 1  2  3 99 99]\n"
     ]
    }
   ],
   "source": [
    "# insert an replace element with slices\n",
    "a = np.array([1,2,3,4,5])\n",
    "a[-2:] = [-1,-2]\n",
    "print(a)\n",
    "# replace element to a same scalar value\n",
    "a[-2:] = 99\n",
    "print(a)"
   ]
  },
  {
   "cell_type": "code",
   "execution_count": null,
   "metadata": {},
   "outputs": [],
   "source": []
  }
 ],
 "metadata": {
  "kernelspec": {
   "display_name": "base",
   "language": "python",
   "name": "python3"
  },
  "language_info": {
   "codemirror_mode": {
    "name": "ipython",
    "version": 3
   },
   "file_extension": ".py",
   "mimetype": "text/x-python",
   "name": "python",
   "nbconvert_exporter": "python",
   "pygments_lexer": "ipython3",
   "version": "3.9.13"
  },
  "orig_nbformat": 4
 },
 "nbformat": 4,
 "nbformat_minor": 2
}
