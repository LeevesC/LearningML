{
 "cells": [
  {
   "attachments": {},
   "cell_type": "markdown",
   "metadata": {},
   "source": [
    "## Exercise - wind statistics"
   ]
  },
  {
   "attachments": {},
   "cell_type": "markdown",
   "metadata": {},
   "source": [
    "1. Use the 'loadtxt' function from numpy to read the data into an array."
   ]
  },
  {
   "cell_type": "code",
   "execution_count": 2,
   "metadata": {},
   "outputs": [],
   "source": [
    "from numpy import loadtxt\n",
    "import numpy as np \n",
    "\n",
    "data = loadtxt('wind_statistics/wind.data')"
   ]
  },
  {
   "cell_type": "code",
   "execution_count": 3,
   "metadata": {},
   "outputs": [
    {
     "name": "stdout",
     "output_type": "stream",
     "text": [
      "<class 'numpy.ndarray'>\n",
      "[[61.    1.    1.   15.04 14.96 13.17  9.29 13.96  9.87 13.67 10.25 10.83\n",
      "  12.58 18.5  15.04]\n",
      " [61.    1.    2.   14.71 16.88 10.83  6.5  12.62  7.67 11.5  10.04  9.79\n",
      "   9.67 17.54 13.83]\n",
      " [61.    1.    3.   18.5  16.88 12.33 10.13 11.17  6.17 11.25  8.04  8.5\n",
      "   7.67 12.75 12.71]]\n",
      "[61.    1.    1.   15.04 14.96 13.17  9.29 13.96  9.87 13.67 10.25 10.83\n",
      " 12.58 18.5  15.04]\n",
      "[[61.  1.  1.]\n",
      " [61.  1.  2.]\n",
      " [61.  1.  3.]\n",
      " ...\n",
      " [78. 12. 29.]\n",
      " [78. 12. 30.]\n",
      " [78. 12. 31.]]\n",
      "(6574, 15)\n"
     ]
    }
   ],
   "source": [
    "print(type(data))\n",
    "print(data[:3, :]) # the first 3 rows\n",
    "print(data[0, :]) # the first row for whole columns\n",
    "print(data[:, :3]) # the first 3 columns for whole rows\n",
    "print(data.shape) # to check how many rows and columns"
   ]
  },
  {
   "attachments": {},
   "cell_type": "markdown",
   "metadata": {},
   "source": [
    "2. The min, max and mean wind speeds and standard deviation of the wind speeds over all the locations and all the times"
   ]
  },
  {
   "cell_type": "code",
   "execution_count": 4,
   "metadata": {},
   "outputs": [
    {
     "name": "stdout",
     "output_type": "stream",
     "text": [
      "[[61.  1.  1.]\n",
      " [61.  1.  2.]\n",
      " [61.  1.  3.]\n",
      " ...\n",
      " [78. 12. 29.]\n",
      " [78. 12. 30.]\n",
      " [78. 12. 31.]]\n",
      "[[15.04 14.96 13.17 ... 12.58 18.5  15.04]\n",
      " [14.71 16.88 10.83 ...  9.67 17.54 13.83]\n",
      " [18.5  16.88 12.33 ...  7.67 12.75 12.71]\n",
      " ...\n",
      " [14.   10.29 14.42 ... 16.42 18.88 29.58]\n",
      " [18.5  14.04 21.29 ... 12.12 14.67 28.79]\n",
      " [20.33 17.41 27.29 ... 11.38 12.08 22.08]]\n",
      "0.0\n",
      "42.54\n",
      "10.22837377040868\n",
      "5.603840181095793\n"
     ]
    }
   ],
   "source": [
    "date_set = data[:, :3] # extract the first 3 columns\n",
    "wind_set = data[:, 3:] # extract the 4th to end columns\n",
    "print(date_set)\n",
    "print(wind_set)\n",
    "print(wind_set.min()) # find the min value from whole data set\n",
    "print(wind_set.max()) # find the max value from whole data set\n",
    "print(wind_set.mean()) # calculate the mean value\n",
    "print(wind_set.std()) # standard deviation"
   ]
  },
  {
   "attachments": {},
   "cell_type": "markdown",
   "metadata": {},
   "source": [
    "3. The min, max and mean wind speeds and standard deviation of the wind speeds at each location over all the times"
   ]
  },
  {
   "cell_type": "code",
   "execution_count": 5,
   "metadata": {},
   "outputs": [
    {
     "name": "stdout",
     "output_type": "stream",
     "text": [
      "[0.67 0.21 1.5  0.   0.13 0.   0.   0.   0.   0.04 0.13 0.67]\n",
      "[35.8  33.37 33.84 28.46 37.54 26.16 30.37 31.08 25.88 28.21 42.38 42.54]\n",
      "[12.36 10.65 11.66  6.31 10.46  7.09  9.8   8.49  8.5   8.71 13.12 15.6 ]\n",
      "[5.62 5.27 5.01 3.61 4.94 3.97 4.98 4.5  4.17 4.5  5.83 6.7 ]\n"
     ]
    }
   ],
   "source": [
    "# calculate the min max ... for each column.\n",
    "min_lis = []\n",
    "max_lis = []\n",
    "mean_lis = []\n",
    "std_lis = []\n",
    "for i in range(wind_set.shape[1]):\n",
    "    min_lis.append(wind_set[:, i].min())\n",
    "    max_lis.append(wind_set[:, i].max())\n",
    "    mean_lis.append(round(wind_set[:, i].mean(),2))\n",
    "    std_lis.append(round(wind_set[:, i].std(),2))\n",
    "\n",
    "print(np.array(min_lis))\n",
    "print(np.array(max_lis))\n",
    "print(np.array(mean_lis))\n",
    "print(np.array(std_lis))\n"
   ]
  },
  {
   "attachments": {},
   "cell_type": "markdown",
   "metadata": {},
   "source": [
    "4. The min, max...of the wind speeds across all the locations at each day (a different set of numbers for each day)"
   ]
  },
  {
   "cell_type": "code",
   "execution_count": 6,
   "metadata": {},
   "outputs": [
    {
     "name": "stdout",
     "output_type": "stream",
     "text": [
      "[9.29 6.5  6.17 ... 8.71 9.13 9.59]\n",
      "[18.5  17.54 18.5  ... 29.58 28.79 27.29]\n",
      "[13.1  11.8  11.34 ... 14.89 15.37 15.4 ]\n",
      "[2.58 3.29 3.51 ... 5.51 5.3  5.46]\n"
     ]
    }
   ],
   "source": [
    "# calculate the min, max for each row.\n",
    "min_lis_day = []\n",
    "max_lis_day = []\n",
    "mean_lis_day = []\n",
    "std_lis_day = []\n",
    "for i in range(wind_set.shape[0]):\n",
    "    min_lis_day.append(wind_set[i, :].min())\n",
    "    max_lis_day.append(wind_set[i, :].max())\n",
    "    mean_lis_day.append(round(wind_set[i, :].mean(),2))\n",
    "    std_lis_day.append(round(wind_set[i, :].std(),2))\n",
    "    \n",
    "print(np.array(min_lis_day))\n",
    "print(np.array(max_lis_day))\n",
    "print(np.array(mean_lis_day))\n",
    "print(np.array(std_lis_day))\n"
   ]
  },
  {
   "attachments": {},
   "cell_type": "markdown",
   "metadata": {},
   "source": [
    "5. The location which has the greatest wind speed on each day (an integer column number for each day)."
   ]
  },
  {
   "cell_type": "code",
   "execution_count": 7,
   "metadata": {},
   "outputs": [
    {
     "name": "stdout",
     "output_type": "stream",
     "text": [
      "[False False False False False False False False False False  True False]\n",
      "(array([10]),)\n"
     ]
    }
   ],
   "source": [
    "mask = wind_set[0,:] == wind_set[0,:].max()\n",
    "print(mask)\n",
    "print(np.where(mask))"
   ]
  },
  {
   "attachments": {},
   "cell_type": "markdown",
   "metadata": {},
   "source": [
    "6. Find the year, month and day on which the greatest windspeed was recorded."
   ]
  },
  {
   "cell_type": "code",
   "execution_count": 8,
   "metadata": {},
   "outputs": [
    {
     "name": "stdout",
     "output_type": "stream",
     "text": [
      "42.54\n",
      "(array([2161]), array([11]))\n",
      "[[66. 12.  2.]]\n"
     ]
    }
   ],
   "source": [
    "greatest_val = wind_set.max()\n",
    "print(greatest_val)\n",
    "mask = wind_set == greatest_val\n",
    "max_loc = np.where(mask)\n",
    "print(max_loc)\n",
    "# find the row in the corresponding dataset\n",
    "print(date_set[max_loc[0],:])"
   ]
  },
  {
   "attachments": {},
   "cell_type": "markdown",
   "metadata": {},
   "source": [
    "7. Find the average wind speed in January for each location."
   ]
  },
  {
   "cell_type": "code",
   "execution_count": 9,
   "metadata": {},
   "outputs": [
    {
     "name": "stdout",
     "output_type": "stream",
     "text": [
      "6574\n",
      "14.869551971326164\n"
     ]
    }
   ],
   "source": [
    "mask = date_set[:, 1] == 1\n",
    "print(mask.size)\n",
    "# the average wind speed in January for the 1st location.\n",
    "print(wind_set[mask,0].mean())"
   ]
  },
  {
   "attachments": {},
   "cell_type": "markdown",
   "metadata": {},
   "source": [
    "### Again, without any for loop"
   ]
  },
  {
   "attachments": {},
   "cell_type": "markdown",
   "metadata": {},
   "source": [
    "3. min, max .. at each location over all the days"
   ]
  },
  {
   "cell_type": "code",
   "execution_count": 10,
   "metadata": {},
   "outputs": [
    {
     "name": "stdout",
     "output_type": "stream",
     "text": [
      "[0.67 0.21 1.5  0.   0.13 0.   0.   0.   0.   0.04 0.13 0.67]\n",
      "[35.8  33.37 33.84 28.46 37.54 26.16 30.37 31.08 25.88 28.21 42.38 42.54]\n",
      "[12.36 10.65 11.66  6.31 10.46  7.09  9.8   8.49  8.5   8.71 13.12 15.6 ]\n",
      "[5.62 5.27 5.01 3.61 4.94 3.97 4.98 4.5  4.17 4.5  5.83 6.7 ]\n"
     ]
    }
   ],
   "source": [
    "print(wind_set.min(axis=0)) # axis=0 apply the calculation column-wise\n",
    "print(wind_set.max(axis=0))\n",
    "print(np.round(wind_set.mean(axis=0),2))\n",
    "print(np.round(wind_set.std(axis=0),2))\n",
    "\n",
    "#[0.67 0.21 1.5  0.   0.13 0.   0.   0.   0.   0.04 0.13 0.67]\n",
    "#[35.8  33.37 33.84 28.46 37.54 26.16 30.37 31.08 25.88 28.21 42.38 42.54]\n",
    "#[12.36 10.65 11.66  6.31 10.46  7.09  9.8   8.49  8.5   8.71 13.12 15.6 ]\n",
    "#[5.62 5.27 5.01 3.61 4.94 3.97 4.98 4.5  4.17 4.5  5.83 6.7 ]"
   ]
  },
  {
   "attachments": {},
   "cell_type": "markdown",
   "metadata": {},
   "source": [
    "4. min, max and mean across all the locations at each day"
   ]
  },
  {
   "cell_type": "code",
   "execution_count": 11,
   "metadata": {},
   "outputs": [
    {
     "name": "stdout",
     "output_type": "stream",
     "text": [
      "[9.29 6.5  6.17 ... 8.71 9.13 9.59]\n",
      "[18.5  17.54 18.5  ... 29.58 28.79 27.29]\n",
      "[13.1  11.8  11.34 ... 14.89 15.37 15.4 ]\n",
      "[2.58 3.29 3.51 ... 5.51 5.3  5.46]\n"
     ]
    }
   ],
   "source": [
    "print(wind_set.min(axis=1))\n",
    "print(wind_set.max(axis=1))\n",
    "print(np.round(wind_set.mean(axis=1),2))\n",
    "print(np.round(wind_set.std(axis=1),2))\n",
    "#[9.29 6.5  6.17 ... 8.71 9.13 9.59]\n",
    "#[18.5  17.54 18.5  ... 29.58 28.79 27.29]\n",
    "#[13.1  11.8  11.34 ... 14.89 15.37 15.4 ]\n",
    "#[2.58 3.29 3.51 ... 5.51 5.3  5.46]"
   ]
  },
  {
   "attachments": {},
   "cell_type": "markdown",
   "metadata": {},
   "source": [
    "5. find the location which has the greatest wind speed on each day"
   ]
  },
  {
   "cell_type": "code",
   "execution_count": 12,
   "metadata": {},
   "outputs": [
    {
     "name": "stdout",
     "output_type": "stream",
     "text": [
      "[10 10  0 ... 11 11  2]\n"
     ]
    }
   ],
   "source": [
    "print(wind_set.argmax(axis=1))"
   ]
  },
  {
   "attachments": {},
   "cell_type": "markdown",
   "metadata": {},
   "source": [
    "6. find the year, month and day on which the greatest wind speed was recorded."
   ]
  },
  {
   "cell_type": "code",
   "execution_count": 13,
   "metadata": {},
   "outputs": [
    {
     "name": "stdout",
     "output_type": "stream",
     "text": [
      "2161\n",
      "[66. 12.  2.]\n",
      "(array([2161]), array([11]))\n",
      "2161\n"
     ]
    }
   ],
   "source": [
    "# convert a flat index into a tuple of coordinate arrays.\n",
    "max_row = np.unravel_index(wind_set.argmax(),wind_set.shape)[0]\n",
    "print(max_row)\n",
    "print(date_set[max_row,:])\n",
    "\n",
    "# using where to solve this quiz (return tuple of arrays)\n",
    "print(np.where(wind_set == wind_set.max()))\n",
    "\n",
    "# other way for this quiz\n",
    "# find the all max value thro row-wise, and argmax() the max row\n",
    "print(wind_set.max(axis=1).argmax())\n",
    "\n",
    "a = np.array([\n",
    "    [ 20,  1,  2,  13,  4],\n",
    "    [ 15,  6,  7,  8,  9],\n",
    "    [1, 11, 12, 13, 14],\n",
    "    [5, 16, 7, 18, 9],\n",
    "    [2, 14, 2, 3, 16]\n",
    "    ])\n",
    "#print(a.max(axis=0)) # axis=0 is column-wise"
   ]
  },
  {
   "attachments": {},
   "cell_type": "markdown",
   "metadata": {},
   "source": [
    "7. find the average wind speed in Jan for each location."
   ]
  },
  {
   "cell_type": "code",
   "execution_count": 14,
   "metadata": {},
   "outputs": [
    {
     "data": {
      "text/plain": [
       "array([14.86955197, 12.92166667, 13.29962366,  7.19949821, 11.67571685,\n",
       "        8.05483871, 11.81935484,  9.5094086 ,  9.54320789, 10.05356631,\n",
       "       14.55051971, 18.02876344])"
      ]
     },
     "execution_count": 14,
     "metadata": {},
     "output_type": "execute_result"
    }
   ],
   "source": [
    "januaries = date_set[:, 1]==1\n",
    "wind_set[januaries].mean(axis=0)"
   ]
  },
  {
   "attachments": {},
   "cell_type": "markdown",
   "metadata": {},
   "source": [
    "### Bonus"
   ]
  },
  {
   "attachments": {},
   "cell_type": "markdown",
   "metadata": {},
   "source": [
    "1. the mean wind speed for each month in the dataset. Treat Jan 1961 and Jan 1962 as *different* months. (hint: first find a way to create an identifier unique for each month. The second step might require a for loop.)"
   ]
  },
  {
   "cell_type": "code",
   "execution_count": 32,
   "metadata": {},
   "outputs": [
    {
     "name": "stdout",
     "output_type": "stream",
     "text": [
      "[[11.38 13.49 11.07  8.41  8.97  9.7   9.02 10.79  9.99 11.48  8.97 10.84]\n",
      " [12.13 13.6   9.18 10.12 10.24 10.38  8.55 10.16  9.03  8.77  8.7  13.5 ]\n",
      " [11.4  12.2  12.23 11.67 11.92  9.58  7.98 10.63  9.61 11.99 12.02 11.7 ]\n",
      " [10.55 12.31 11.08 10.82 12.16 10.2   9.77  8.75  9.92  9.43 10.83 11.84]\n",
      " [13.21  7.79 11.99 11.74 10.03  9.6   8.48 10.35  9.5   9.66 12.39 11.66]\n",
      " [12.23 14.24 12.12 13.88 10.78  8.57  9.39  8.2   8.61  8.8  11.61 14.09]\n",
      " [10.57 13.12 14.87 11.01 10.92  8.2   9.32  8.75 10.46 13.59  9.88 11.07]\n",
      " [11.73  8.88 12.25 10.32  8.71  7.8   6.36  7.79 10.02 10.45 12.45 10.26]\n",
      " [10.5  11.19  9.38  9.84  7.6   7.97  9.08  8.89  8.08 10.34 10.64 10.57]\n",
      " [10.47 11.73 11.99 11.42  9.86  8.3  10.42  7.73 10.37 11.62 10.94  9.88]\n",
      " [11.17  9.4   9.13  7.81  8.42  8.86  6.6   7.66  6.78 11.04 11.18 11.67]\n",
      " [10.8  10.66 10.17 10.81 12.02  9.93  6.95  7.61  6.79  9.01 10.13 12.94]\n",
      " [10.01 11.46  9.67 11.26 10.41  8.76  7.61  7.42  8.96  8.64  9.73 10.97]\n",
      " [16.25 10.52  9.58  7.19 10.82  9.13 10.05  9.03 10.47 10.45 10.83 15.86]\n",
      " [14.01  9.81  9.7   9.9   7.95  7.92  8.24  7.07 10.13 11.17  9.46  9.15]\n",
      " [13.7  10.53 12.54  9.25 10.26  8.71  7.65  5.79  9.52  9.09  8.75  8.04]]\n"
     ]
    }
   ],
   "source": [
    "whole_mean = []\n",
    "for year in range(61,77):\n",
    "    month_mean = []\n",
    "    for i in range(1,13):\n",
    "        mask = (date_set[:,0]==year) & (date_set[:,1]==i)\n",
    "        month_mean.append(np.round(wind_set[mask].mean(),2))\n",
    "    whole_mean.append(month_mean)\n",
    "\n",
    "print(np.array(whole_mean))"
   ]
  },
  {
   "attachments": {},
   "cell_type": "markdown",
   "metadata": {},
   "source": [
    "2. the min, max, mean and std of the wind speeds across all locations for each week (assume that the first week starts on Jan 1 1961) for the first 52 weeks. This can be done without any for loop."
   ]
  },
  {
   "cell_type": "code",
   "execution_count": 54,
   "metadata": {},
   "outputs": [
    {
     "name": "stdout",
     "output_type": "stream",
     "text": [
      "1.79\n",
      "(array([3]), array([7]))\n"
     ]
    },
    {
     "data": {
      "text/plain": [
       "10.30154761904762"
      ]
     },
     "execution_count": 54,
     "metadata": {},
     "output_type": "execute_result"
    }
   ],
   "source": [
    "# find out the first week\n",
    "first_week_min = wind_set[:7, :].min()\n",
    "print(first_week_min)\n",
    "print(np.where(wind_set[:7, :]==first_week_min))\n",
    "wind_set[:7, :].mean()\n"
   ]
  },
  {
   "cell_type": "code",
   "execution_count": 66,
   "metadata": {},
   "outputs": [
    {
     "name": "stdout",
     "output_type": "stream",
     "text": [
      "(52, 84)\n",
      "[1.79 0.5  1.04 2.17 3.63 8.08 3.42 2.21 5.66 1.71 2.75 2.58 1.46 3.21\n",
      " 1.54 0.83 1.38 3.83 1.04 3.33 1.63 3.29 3.21 1.58 2.88 4.42 3.54 2.67\n",
      " 1.46 2.17 2.25 2.5  6.83 3.96 1.13 1.25 4.17 1.46 3.21 1.04 2.96 3.75\n",
      " 2.21 1.71 1.33 0.63 2.88 1.92 3.13 5.46 0.58 0.42]\n",
      "[18.5  20.71 20.79 27.63 27.71 26.38 28.62 29.63 25.8  22.71 22.95 21.54\n",
      " 22.5  18.29 16.17 21.09 17.5  28.08 26.63 15.96 20.96 17.96 19.83 25.25\n",
      " 24.71 21.87 21.29 22.5  21.42 25.37 20.25 14.58 24.3  22.29 24.71 20.25\n",
      " 33.09 20.96 23.21 19.62 21.04 33.45 30.88 23.58 20.41 32.71 22.58 23.75\n",
      " 29.33 25.62 24.41 29.33]\n",
      "[10.3   8.89  9.3  14.92 12.79 16.04 13.69 11.76 13.06 10.08 12.75  9.8\n",
      " 11.28  8.76  7.66  9.46  7.73 11.67  9.5   7.81  7.19  9.    8.88  9.1\n",
      " 10.33 10.01 10.6  11.    6.5   8.99  9.41  7.8  12.43 11.87  9.45  8.19\n",
      " 14.28  7.47 11.57  7.62 10.18 14.21 14.6  10.64  7.73  8.01  8.87  9.48\n",
      " 11.86 14.06  8.66 10.35]\n",
      "[3.6  4.63 4.8  5.47 5.66 4.11 4.55 4.94 4.67 4.02 4.46 3.92 4.27 3.57\n",
      " 3.33 4.89 3.65 4.57 6.16 3.08 3.76 3.03 3.13 4.43 4.23 3.52 3.96 4.54\n",
      " 3.33 5.   3.96 2.8  3.5  4.37 5.87 4.11 6.11 3.39 4.52 4.25 4.13 6.61\n",
      " 6.13 4.82 3.94 5.66 3.98 5.03 4.93 4.54 5.09 5.43]\n"
     ]
    }
   ],
   "source": [
    "# Do it wisely, to reshape the array that extract from original data set.\n",
    "weekly_data = wind_set[:52*7].reshape(-1,7*12)\n",
    "# -1 in reshape allows numpy to calculate the correct number of rows \\\n",
    "# based on the original size of the array and the specified number of \\\n",
    "# columns.\n",
    "print(weekly_data.shape)\n",
    "print(weekly_data.min(axis=1))\n",
    "print(weekly_data.max(axis=1))\n",
    "print(np.round(weekly_data.mean(axis=1),2))\n",
    "print(np.round(weekly_data.std(axis=1),2))"
   ]
  },
  {
   "attachments": {},
   "cell_type": "markdown",
   "metadata": {},
   "source": [
    "### Bonus Bonus"
   ]
  },
  {
   "attachments": {},
   "cell_type": "markdown",
   "metadata": {},
   "source": [
    "Calculate the mean wind speed for each month without using a for loop. (hint: look at 'searchsored' and 'add.reduceat')"
   ]
  },
  {
   "cell_type": "code",
   "execution_count": 68,
   "metadata": {},
   "outputs": [
    {
     "data": {
      "text/plain": [
       "array([[61.,  1.,  1.],\n",
       "       [61.,  1.,  2.],\n",
       "       [61.,  1.,  3.]])"
      ]
     },
     "execution_count": 68,
     "metadata": {},
     "output_type": "execute_result"
    }
   ],
   "source": [
    "wind_set[:3, :]\n",
    "date_set[:3, :]"
   ]
  },
  {
   "cell_type": "code",
   "execution_count": 84,
   "metadata": {},
   "outputs": [
    {
     "name": "stdout",
     "output_type": "stream",
     "text": [
      "[[15.04 14.96 13.17  9.29 13.96  9.87 13.67 10.25 10.83 12.58 18.5  15.04]\n",
      " [14.71 16.88 10.83  6.5  12.62  7.67 11.5  10.04  9.79  9.67 17.54 13.83]\n",
      " [18.5  16.88 12.33 10.13 11.17  6.17 11.25  8.04  8.5   7.67 12.75 12.71]]\n",
      "11.380645161290321\n"
     ]
    },
    {
     "data": {
      "text/plain": [
       "11.380645161290323"
      ]
     },
     "execution_count": 84,
     "metadata": {},
     "output_type": "execute_result"
    }
   ],
   "source": [
    "mask = (date_set[:,1] == 1) & (date_set[:, 0] == 61)\n",
    "print(wind_set[mask][:3,:])\n",
    "summ = 0\n",
    "for i in wind_set[mask].flatten():\n",
    "    summ += i\n",
    "print(summ/(31*12))\n",
    "\n",
    "wind_set[mask].mean()"
   ]
  },
  {
   "cell_type": "code",
   "execution_count": null,
   "metadata": {},
   "outputs": [],
   "source": []
  }
 ],
 "metadata": {
  "kernelspec": {
   "display_name": "base",
   "language": "python",
   "name": "python3"
  },
  "language_info": {
   "codemirror_mode": {
    "name": "ipython",
    "version": 3
   },
   "file_extension": ".py",
   "mimetype": "text/x-python",
   "name": "python",
   "nbconvert_exporter": "python",
   "pygments_lexer": "ipython3",
   "version": "3.9.13"
  },
  "orig_nbformat": 4
 },
 "nbformat": 4,
 "nbformat_minor": 2
}
