{
 "cells": [
  {
   "attachments": {},
   "cell_type": "markdown",
   "metadata": {},
   "source": [
    "## Exercise - wind statistics"
   ]
  },
  {
   "attachments": {},
   "cell_type": "markdown",
   "metadata": {},
   "source": [
    "1. Use the 'loadtxt' function from numpy to read the data into an array."
   ]
  },
  {
   "cell_type": "code",
   "execution_count": 3,
   "metadata": {},
   "outputs": [],
   "source": [
    "from numpy import loadtxt\n",
    "import numpy as np \n",
    "\n",
    "data = loadtxt('wind_statistics/wind.data')"
   ]
  },
  {
   "cell_type": "code",
   "execution_count": 4,
   "metadata": {},
   "outputs": [
    {
     "name": "stdout",
     "output_type": "stream",
     "text": [
      "<class 'numpy.ndarray'>\n",
      "[[61.    1.    1.   15.04 14.96 13.17  9.29 13.96  9.87 13.67 10.25 10.83\n",
      "  12.58 18.5  15.04]\n",
      " [61.    1.    2.   14.71 16.88 10.83  6.5  12.62  7.67 11.5  10.04  9.79\n",
      "   9.67 17.54 13.83]\n",
      " [61.    1.    3.   18.5  16.88 12.33 10.13 11.17  6.17 11.25  8.04  8.5\n",
      "   7.67 12.75 12.71]]\n",
      "[61.    1.    1.   15.04 14.96 13.17  9.29 13.96  9.87 13.67 10.25 10.83\n",
      " 12.58 18.5  15.04]\n",
      "[[61.  1.  1.]\n",
      " [61.  1.  2.]\n",
      " [61.  1.  3.]\n",
      " ...\n",
      " [78. 12. 29.]\n",
      " [78. 12. 30.]\n",
      " [78. 12. 31.]]\n",
      "(6574, 15)\n"
     ]
    }
   ],
   "source": [
    "print(type(data))\n",
    "print(data[:3, :]) # the first 3 rows\n",
    "print(data[0, :]) # the first row for whole columns\n",
    "print(data[:, :3]) # the first 3 columns for whole rows\n",
    "print(data.shape) # to check how many rows and columns"
   ]
  },
  {
   "attachments": {},
   "cell_type": "markdown",
   "metadata": {},
   "source": [
    "2. The min, max and mean wind speeds and standard deviation of the wind speeds over all the locations and all the times"
   ]
  },
  {
   "cell_type": "code",
   "execution_count": 5,
   "metadata": {},
   "outputs": [
    {
     "name": "stdout",
     "output_type": "stream",
     "text": [
      "[[61.  1.  1.]\n",
      " [61.  1.  2.]\n",
      " [61.  1.  3.]\n",
      " ...\n",
      " [78. 12. 29.]\n",
      " [78. 12. 30.]\n",
      " [78. 12. 31.]]\n",
      "[[15.04 14.96 13.17 ... 12.58 18.5  15.04]\n",
      " [14.71 16.88 10.83 ...  9.67 17.54 13.83]\n",
      " [18.5  16.88 12.33 ...  7.67 12.75 12.71]\n",
      " ...\n",
      " [14.   10.29 14.42 ... 16.42 18.88 29.58]\n",
      " [18.5  14.04 21.29 ... 12.12 14.67 28.79]\n",
      " [20.33 17.41 27.29 ... 11.38 12.08 22.08]]\n",
      "0.0\n",
      "42.54\n",
      "10.22837377040868\n",
      "5.603840181095793\n"
     ]
    }
   ],
   "source": [
    "date_set = data[:, :3] # extract the first 3 columns\n",
    "wind_set = data[:, 3:] # extract the 4th to end columns\n",
    "print(date_set)\n",
    "print(wind_set)\n",
    "print(wind_set.min()) # find the min value from whole data set\n",
    "print(wind_set.max()) # find the max value from whole data set\n",
    "print(wind_set.mean()) # calculate the mean value\n",
    "print(wind_set.std()) # standard deviation"
   ]
  },
  {
   "attachments": {},
   "cell_type": "markdown",
   "metadata": {},
   "source": [
    "3. The min, max and mean wind speeds and standard deviation of the wind speeds at each location over all the times"
   ]
  },
  {
   "cell_type": "code",
   "execution_count": 6,
   "metadata": {},
   "outputs": [
    {
     "name": "stdout",
     "output_type": "stream",
     "text": [
      "[0.67 0.21 1.5  0.   0.13 0.   0.   0.   0.   0.04 0.13 0.67]\n",
      "[35.8  33.37 33.84 28.46 37.54 26.16 30.37 31.08 25.88 28.21 42.38 42.54]\n",
      "[12.36 10.65 11.66  6.31 10.46  7.09  9.8   8.49  8.5   8.71 13.12 15.6 ]\n",
      "[5.62 5.27 5.01 3.61 4.94 3.97 4.98 4.5  4.17 4.5  5.83 6.7 ]\n"
     ]
    }
   ],
   "source": [
    "# calculate the min max ... for each column.\n",
    "min_lis = []\n",
    "max_lis = []\n",
    "mean_lis = []\n",
    "std_lis = []\n",
    "for i in range(wind_set.shape[1]):\n",
    "    min_lis.append(wind_set[:, i].min())\n",
    "    max_lis.append(wind_set[:, i].max())\n",
    "    mean_lis.append(round(wind_set[:, i].mean(),2))\n",
    "    std_lis.append(round(wind_set[:, i].std(),2))\n",
    "\n",
    "print(np.array(min_lis))\n",
    "print(np.array(max_lis))\n",
    "print(np.array(mean_lis))\n",
    "print(np.array(std_lis))\n"
   ]
  },
  {
   "attachments": {},
   "cell_type": "markdown",
   "metadata": {},
   "source": [
    "4. The min, max...of the wind speeds across all the locations at each day (a different set of numbers for each day)"
   ]
  },
  {
   "cell_type": "code",
   "execution_count": 7,
   "metadata": {},
   "outputs": [
    {
     "name": "stdout",
     "output_type": "stream",
     "text": [
      "[9.29 6.5  6.17 ... 8.71 9.13 9.59]\n",
      "[18.5  17.54 18.5  ... 29.58 28.79 27.29]\n",
      "[13.1  11.8  11.34 ... 14.89 15.37 15.4 ]\n",
      "[2.58 3.29 3.51 ... 5.51 5.3  5.46]\n"
     ]
    }
   ],
   "source": [
    "# calculate the min, max for each row.\n",
    "min_lis_day = []\n",
    "max_lis_day = []\n",
    "mean_lis_day = []\n",
    "std_lis_day = []\n",
    "for i in range(wind_set.shape[0]):\n",
    "    min_lis_day.append(wind_set[i, :].min())\n",
    "    max_lis_day.append(wind_set[i, :].max())\n",
    "    mean_lis_day.append(round(wind_set[i, :].mean(),2))\n",
    "    std_lis_day.append(round(wind_set[i, :].std(),2))\n",
    "    \n",
    "print(np.array(min_lis_day))\n",
    "print(np.array(max_lis_day))\n",
    "print(np.array(mean_lis_day))\n",
    "print(np.array(std_lis_day))\n"
   ]
  },
  {
   "attachments": {},
   "cell_type": "markdown",
   "metadata": {},
   "source": [
    "5. The location which has the greatest wind speed on each day (an integer column number for each day)."
   ]
  },
  {
   "cell_type": "code",
   "execution_count": 8,
   "metadata": {},
   "outputs": [
    {
     "name": "stdout",
     "output_type": "stream",
     "text": [
      "[False False False False False False False False False False  True False]\n",
      "(array([10]),)\n"
     ]
    }
   ],
   "source": [
    "mask = wind_set[0,:] == wind_set[0,:].max()\n",
    "print(mask)\n",
    "print(np.where(mask))"
   ]
  },
  {
   "attachments": {},
   "cell_type": "markdown",
   "metadata": {},
   "source": [
    "6. Find the year, month and day on which the greatest windspeed was recorded."
   ]
  },
  {
   "cell_type": "code",
   "execution_count": 19,
   "metadata": {},
   "outputs": [
    {
     "name": "stdout",
     "output_type": "stream",
     "text": [
      "42.54\n",
      "(array([2161]), array([11]))\n",
      "[[66. 12.  2.]]\n"
     ]
    }
   ],
   "source": [
    "greatest_val = wind_set.max()\n",
    "print(greatest_val)\n",
    "mask = wind_set == greatest_val\n",
    "max_loc = np.where(mask)\n",
    "print(max_loc)\n",
    "# find the row in the corresponding dataset\n",
    "print(date_set[max_loc[0],:])"
   ]
  },
  {
   "attachments": {},
   "cell_type": "markdown",
   "metadata": {},
   "source": [
    "7. Find the average wind speed in January for each location."
   ]
  },
  {
   "cell_type": "code",
   "execution_count": 79,
   "metadata": {},
   "outputs": [
    {
     "name": "stdout",
     "output_type": "stream",
     "text": [
      "6574\n",
      "14.869551971326164\n"
     ]
    }
   ],
   "source": [
    "mask = date_set[:, 1] == 1\n",
    "print(mask.size)\n",
    "# the average wind speed in January for the 1st location.\n",
    "print(wind_set[mask,0].mean())"
   ]
  },
  {
   "attachments": {},
   "cell_type": "markdown",
   "metadata": {},
   "source": [
    "### Again, without any for loop"
   ]
  },
  {
   "attachments": {},
   "cell_type": "markdown",
   "metadata": {},
   "source": [
    "3. min, max .. at each location over all the days"
   ]
  },
  {
   "cell_type": "code",
   "execution_count": 43,
   "metadata": {},
   "outputs": [
    {
     "name": "stdout",
     "output_type": "stream",
     "text": [
      "[0.67 0.21 1.5  0.   0.13 0.   0.   0.   0.   0.04 0.13 0.67]\n",
      "[35.8  33.37 33.84 28.46 37.54 26.16 30.37 31.08 25.88 28.21 42.38 42.54]\n",
      "[12.36 10.65 11.66  6.31 10.46  7.09  9.8   8.49  8.5   8.71 13.12 15.6 ]\n",
      "[5.62 5.27 5.01 3.61 4.94 3.97 4.98 4.5  4.17 4.5  5.83 6.7 ]\n"
     ]
    }
   ],
   "source": [
    "print(wind_set.min(axis=0)) # axis=0 apply the calculation column-wise\n",
    "print(wind_set.max(axis=0))\n",
    "print(np.round(wind_set.mean(axis=0),2))\n",
    "print(np.round(wind_set.std(axis=0),2))\n",
    "\n",
    "#[0.67 0.21 1.5  0.   0.13 0.   0.   0.   0.   0.04 0.13 0.67]\n",
    "#[35.8  33.37 33.84 28.46 37.54 26.16 30.37 31.08 25.88 28.21 42.38 42.54]\n",
    "#[12.36 10.65 11.66  6.31 10.46  7.09  9.8   8.49  8.5   8.71 13.12 15.6 ]\n",
    "#[5.62 5.27 5.01 3.61 4.94 3.97 4.98 4.5  4.17 4.5  5.83 6.7 ]"
   ]
  },
  {
   "attachments": {},
   "cell_type": "markdown",
   "metadata": {},
   "source": [
    "4. min, max and mean across all the locations at each day"
   ]
  },
  {
   "cell_type": "code",
   "execution_count": 52,
   "metadata": {},
   "outputs": [
    {
     "name": "stdout",
     "output_type": "stream",
     "text": [
      "[9.29 6.5  6.17 ... 8.71 9.13 9.59]\n",
      "[18.5  17.54 18.5  ... 29.58 28.79 27.29]\n",
      "[13.1  11.8  11.34 ... 14.89 15.37 15.4 ]\n",
      "[2.58 3.29 3.51 ... 5.51 5.3  5.46]\n"
     ]
    }
   ],
   "source": [
    "print(wind_set.min(axis=1))\n",
    "print(wind_set.max(axis=1))\n",
    "print(np.round(wind_set.mean(axis=1),2))\n",
    "print(np.round(wind_set.std(axis=1),2))\n",
    "#[9.29 6.5  6.17 ... 8.71 9.13 9.59]\n",
    "#[18.5  17.54 18.5  ... 29.58 28.79 27.29]\n",
    "#[13.1  11.8  11.34 ... 14.89 15.37 15.4 ]\n",
    "#[2.58 3.29 3.51 ... 5.51 5.3  5.46]"
   ]
  },
  {
   "attachments": {},
   "cell_type": "markdown",
   "metadata": {},
   "source": [
    "5. find the location which has the greatest wind speed on each day"
   ]
  },
  {
   "cell_type": "code",
   "execution_count": 54,
   "metadata": {},
   "outputs": [
    {
     "name": "stdout",
     "output_type": "stream",
     "text": [
      "[10 10  0 ... 11 11  2]\n"
     ]
    }
   ],
   "source": [
    "print(wind_set.argmax(axis=1))"
   ]
  },
  {
   "attachments": {},
   "cell_type": "markdown",
   "metadata": {},
   "source": [
    "6. find the year, month and day on which the greatest wind speed was recorded."
   ]
  },
  {
   "cell_type": "code",
   "execution_count": 78,
   "metadata": {},
   "outputs": [
    {
     "name": "stdout",
     "output_type": "stream",
     "text": [
      "2161\n",
      "[66. 12.  2.]\n",
      "(array([2161]), array([11]))\n",
      "2161\n",
      "[20 16 12 18 16]\n"
     ]
    }
   ],
   "source": [
    "# convert a flat index into a tuple of coordinate arrays.\n",
    "max_row = np.unravel_index(wind_set.argmax(),wind_set.shape)[0]\n",
    "print(max_row)\n",
    "print(date_set[max_row,:])\n",
    "\n",
    "# using where to solve this quiz (return tuple of arrays)\n",
    "print(np.where(wind_set == wind_set.max()))\n",
    "\n",
    "# other way for this quiz\n",
    "# find the all max value thro row-wise, and argmax() the max row\n",
    "print(wind_set.max(axis=1).argmax())\n",
    "\n",
    "a = np.array([\n",
    "    [ 20,  1,  2,  13,  4],\n",
    "    [ 15,  6,  7,  8,  9],\n",
    "    [1, 11, 12, 13, 14],\n",
    "    [5, 16, 7, 18, 9],\n",
    "    [2, 14, 2, 3, 16]\n",
    "    ])\n",
    "#print(a.max(axis=0)) # axis=0 is column-wise"
   ]
  },
  {
   "attachments": {},
   "cell_type": "markdown",
   "metadata": {},
   "source": [
    "7. find the average wind speed in Jan for each location."
   ]
  },
  {
   "cell_type": "code",
   "execution_count": 80,
   "metadata": {},
   "outputs": [
    {
     "data": {
      "text/plain": [
       "array([14.86955197, 12.92166667, 13.29962366,  7.19949821, 11.67571685,\n",
       "        8.05483871, 11.81935484,  9.5094086 ,  9.54320789, 10.05356631,\n",
       "       14.55051971, 18.02876344])"
      ]
     },
     "execution_count": 80,
     "metadata": {},
     "output_type": "execute_result"
    }
   ],
   "source": [
    "januaries = date_set[:, 1]==1\n",
    "wind_set[januaries].mean(axis=0)"
   ]
  },
  {
   "cell_type": "code",
   "execution_count": null,
   "metadata": {},
   "outputs": [],
   "source": []
  }
 ],
 "metadata": {
  "kernelspec": {
   "display_name": "base",
   "language": "python",
   "name": "python3"
  },
  "language_info": {
   "codemirror_mode": {
    "name": "ipython",
    "version": 3
   },
   "file_extension": ".py",
   "mimetype": "text/x-python",
   "name": "python",
   "nbconvert_exporter": "python",
   "pygments_lexer": "ipython3",
   "version": "3.9.13"
  },
  "orig_nbformat": 4
 },
 "nbformat": 4,
 "nbformat_minor": 2
}
