{
 "cells": [
  {
   "attachments": {},
   "cell_type": "markdown",
   "metadata": {},
   "source": []
  },
  {
   "attachments": {},
   "cell_type": "markdown",
   "metadata": {},
   "source": [
    "# Vector and Matrix Initializations"
   ]
  },
  {
   "attachments": {},
   "cell_type": "markdown",
   "metadata": {},
   "source": [
    "## basic initializations of vector and matrix"
   ]
  },
  {
   "cell_type": "code",
   "execution_count": 34,
   "metadata": {},
   "outputs": [
    {
     "name": "stdout",
     "output_type": "stream",
     "text": [
      "1 (3,) [1 2 3]\n",
      "2 (3, 1) [[1]\n",
      " [2]\n",
      " [3]]\n",
      "(12,) [ 0  1  2  3  4  5  6  7  8  9 10 11]\n",
      "(1, 12) [[ 0  1  2  3  4  5  6  7  8  9 10 11]]\n",
      "(12, 1) [[ 0]\n",
      " [ 1]\n",
      " [ 2]\n",
      " [ 3]\n",
      " [ 4]\n",
      " [ 5]\n",
      " [ 6]\n",
      " [ 7]\n",
      " [ 8]\n",
      " [ 9]\n",
      " [10]\n",
      " [11]]\n"
     ]
    }
   ],
   "source": [
    "# Vectors\n",
    "import numpy as np\n",
    "\n",
    "a_3 = np.array([1, 2, 3]) # three elements along one axis.\n",
    "a_3row = np.array([[1],[2],[3]]) # three elements along three axis\n",
    "print(a_3.ndim, a_3.shape, a_3)\n",
    "print(a_3row.ndim, a_3row.shape, a_3row)\n",
    "\n",
    "\n",
    "a_12 = np.arange(12)\n",
    "print(a_12.shape, a_12)\n",
    "# arange used to generate a sequence of numbers with a specified range with array type\n",
    "\n",
    "b_1_12 = a_12.reshape(1, 12)\n",
    "print(b_1_12.shape, b_1_12)\n",
    "# reshape the array into a 1 x 12 matrix\n",
    "\n",
    "b_12_1 = a_12.reshape(12, 1)\n",
    "print(b_12_1.shape, b_12_1)\n",
    "# reshape the array into a 12 x 1 matrix"
   ]
  },
  {
   "cell_type": "code",
   "execution_count": 17,
   "metadata": {},
   "outputs": [
    {
     "name": "stdout",
     "output_type": "stream",
     "text": [
      "(2, 3) \n",
      " [[1 2 3]\n",
      " [4 5 6]]\n",
      "(3, 4) \n",
      " [[ 0  1  2  3]\n",
      " [ 4  5  6  7]\n",
      " [ 8  9 10 11]]\n"
     ]
    }
   ],
   "source": [
    "# matrix\n",
    "matri_2_2 = np.array([[1, 2, 3], [4, 5, 6]])\n",
    "print(matri_2_2.shape,'\\n', matri_2_2)\n",
    "\n",
    "matri_3_5 = np.arange(12).reshape(3, 4)\n",
    "print(matri_3_5.shape,'\\n', matri_3_5)"
   ]
  },
  {
   "attachments": {},
   "cell_type": "markdown",
   "metadata": {},
   "source": [
    "## further methods for initialisations"
   ]
  },
  {
   "cell_type": "code",
   "execution_count": 9,
   "metadata": {},
   "outputs": [
    {
     "name": "stdout",
     "output_type": "stream",
     "text": [
      "[0. 0. 0. 0. 0.]\n",
      "[[0. 0.]\n",
      " [0. 0.]\n",
      " [0. 0.]]\n",
      "float64\n",
      "[[0 0]\n",
      " [0 0]]\n"
     ]
    }
   ],
   "source": [
    "vector_zero_1d = np.zeros(5)\n",
    "print(vector_zero_1d)\n",
    "\n",
    "vector_zero_3d = np.zeros((3,2))\n",
    "print(vector_zero_3d)\n",
    "print(vector_zero_3d.dtype)\n",
    "\n",
    "vector_zero_2d = np.zeros((2,2), dtype=int)\n",
    "print(vector_zero_2d)"
   ]
  },
  {
   "attachments": {},
   "cell_type": "markdown",
   "metadata": {},
   "source": [
    "#### to generate a random matrix"
   ]
  },
  {
   "cell_type": "code",
   "execution_count": 10,
   "metadata": {},
   "outputs": [
    {
     "name": "stdout",
     "output_type": "stream",
     "text": [
      "[[0.51595049 0.89804999 0.42366608]\n",
      " [0.10410122 0.71099422 0.38992314]\n",
      " [0.94615884 0.77461648 0.58062119]]\n"
     ]
    }
   ],
   "source": [
    "matri_rand = np.random.rand(3,3)\n",
    "print(matri_rand)"
   ]
  },
  {
   "cell_type": "code",
   "execution_count": 14,
   "metadata": {},
   "outputs": [
    {
     "name": "stdout",
     "output_type": "stream",
     "text": [
      "[0 1 2 3 4]\n",
      "[[0 0 0 0 0]\n",
      " [0 1 0 0 0]\n",
      " [0 0 2 0 0]\n",
      " [0 0 0 3 0]\n",
      " [0 0 0 0 4]]\n",
      "[0 1 2 3 4]\n"
     ]
    }
   ],
   "source": [
    "a = np.arange(5)\n",
    "print(a)\n",
    "b = np.diag(a) # diagonalize 1D values into diagonal matrix with other elements are all 0s\n",
    "print(b)\n",
    "c = np.diag(b) # if the input is already a diagonal matrix, it extracts the diagonal elements into 1D array\n",
    "print(c)"
   ]
  },
  {
   "cell_type": "code",
   "execution_count": 17,
   "metadata": {},
   "outputs": [
    {
     "name": "stdout",
     "output_type": "stream",
     "text": [
      "[[1 0 0]\n",
      " [0 1 0]\n",
      " [0 0 1]]\n"
     ]
    }
   ],
   "source": [
    "b = np.eye(3, dtype=int) # to generate an identity matrix\n",
    "print(b)"
   ]
  },
  {
   "attachments": {},
   "cell_type": "markdown",
   "metadata": {},
   "source": [
    "## Multiplication, Transpose and Inverse"
   ]
  },
  {
   "cell_type": "code",
   "execution_count": 38,
   "metadata": {},
   "outputs": [
    {
     "name": "stdout",
     "output_type": "stream",
     "text": [
      "[[1 2]\n",
      " [3 4]\n",
      " [5 6]]\n",
      "[[1 3 5]\n",
      " [2 4 6]]\n"
     ]
    }
   ],
   "source": [
    "\n",
    "matri_3_3 = np.arange(1,7).reshape(3,2)\n",
    "print(matri_3_3)\n",
    "print(matri_3_3.T)"
   ]
  },
  {
   "cell_type": "code",
   "execution_count": 45,
   "metadata": {},
   "outputs": [
    {
     "ename": "ValueError",
     "evalue": "operands could not be broadcast together with shapes (3,2) (2,3) ",
     "output_type": "error",
     "traceback": [
      "\u001b[0;31m---------------------------------------------------------------------------\u001b[0m",
      "\u001b[0;31mValueError\u001b[0m                                Traceback (most recent call last)",
      "Cell \u001b[0;32mIn[45], line 1\u001b[0m\n\u001b[0;32m----> 1\u001b[0m \u001b[39mprint\u001b[39m(np\u001b[39m.\u001b[39;49mmultiply(matri_3_3, matri_3_3\u001b[39m.\u001b[39;49mT))\n\u001b[1;32m      2\u001b[0m \u001b[39mprint\u001b[39m(matri_3_3 \u001b[39m*\u001b[39m matri_3_3\u001b[39m.\u001b[39mT)\n\u001b[1;32m      3\u001b[0m \u001b[39m# scalar multiplication support\u001b[39;00m\n\u001b[1;32m      4\u001b[0m \u001b[39m# matrix (element-wise) multiplication support (only square)\u001b[39;00m\n\u001b[1;32m      5\u001b[0m \u001b[39m# dot product No\u001b[39;00m\n",
      "\u001b[0;31mValueError\u001b[0m: operands could not be broadcast together with shapes (3,2) (2,3) "
     ]
    }
   ],
   "source": [
    "print(np.multiply(matri_3_3, matri_3_3.T))\n",
    "print(matri_3_3 * matri_3_3.T)\n",
    "# scalar multiplication support\n",
    "# matrix (element-wise) multiplication support (only square)\n",
    "# dot product No"
   ]
  },
  {
   "cell_type": "code",
   "execution_count": 40,
   "metadata": {},
   "outputs": [
    {
     "data": {
      "text/plain": [
       "array([[ 5, 11, 17],\n",
       "       [11, 25, 39],\n",
       "       [17, 39, 61]])"
      ]
     },
     "execution_count": 40,
     "metadata": {},
     "output_type": "execute_result"
    }
   ],
   "source": [
    "np.dot(matri_3_3, matri_3_3.T)\n",
    "# scalar multiplication support\n",
    "# matrix (element-wise) multiplication No\n",
    "# dot product support"
   ]
  },
  {
   "cell_type": "code",
   "execution_count": 44,
   "metadata": {},
   "outputs": [
    {
     "name": "stdout",
     "output_type": "stream",
     "text": [
      "[[ 5 11 17]\n",
      " [11 25 39]\n",
      " [17 39 61]]\n",
      "[[ 5 11 17]\n",
      " [11 25 39]\n",
      " [17 39 61]]\n"
     ]
    }
   ],
   "source": [
    "print(np.matmul(matri_3_3, matri_3_3.T))\n",
    "print(matri_3_3 @ matri_3_3.T)\n",
    "# scalar multiplication No\n",
    "# matrix (element-wise) multiplication No\n",
    "# dot product support "
   ]
  },
  {
   "attachments": {},
   "cell_type": "markdown",
   "metadata": {},
   "source": [
    "#### Verification: $I_mA = AI_n$"
   ]
  },
  {
   "cell_type": "code",
   "execution_count": 49,
   "metadata": {},
   "outputs": [
    {
     "name": "stdout",
     "output_type": "stream",
     "text": [
      "[[1 2 3]\n",
      " [4 5 6]]\n",
      "[[1 0]\n",
      " [0 1]]\n",
      "[[1 2 3]\n",
      " [4 5 6]]\n",
      "[[1 2 3]\n",
      " [4 5 6]]\n",
      "[[1 2 3]\n",
      " [4 5 6]]\n",
      "[[1 2]\n",
      " [4 5]]\n"
     ]
    }
   ],
   "source": [
    "matr_ver = np.arange(1,7).reshape(2,3)\n",
    "i_ver_front = np.eye(2, dtype=int)\n",
    "i_ver_end = np.eye(3,dtype=int)\n",
    "print(matr_ver)\n",
    "print(i_ver_front)\n",
    "print(i_ver_front @ matr_ver)\n",
    "print(np.dot(i_ver_front,matr_ver))\n",
    "\n",
    "print(matr_ver @ i_ver_end)\n",
    "\n",
    "# how to use slice in matrix\n",
    "print(matr_ver[:2,:2])"
   ]
  },
  {
   "attachments": {},
   "cell_type": "markdown",
   "metadata": {},
   "source": [
    "#### Inverse of matrix"
   ]
  },
  {
   "cell_type": "code",
   "execution_count": 61,
   "metadata": {},
   "outputs": [
    {
     "name": "stdout",
     "output_type": "stream",
     "text": [
      "[[1 2]\n",
      " [3 4]]\n",
      "[[-2.   1. ]\n",
      " [ 1.5 -0.5]]\n",
      "[[1.0000000e+00 0.0000000e+00]\n",
      " [8.8817842e-16 1.0000000e+00]]\n"
     ]
    }
   ],
   "source": [
    "a = np.arange(1,5).reshape(2,2)\n",
    "a_inv = np.linalg.inv(a)\n",
    "print(a)\n",
    "print(a_inv)\n",
    "print(np.dot(a,a_inv))\n"
   ]
  },
  {
   "cell_type": "code",
   "execution_count": null,
   "metadata": {},
   "outputs": [],
   "source": []
  }
 ],
 "metadata": {
  "kernelspec": {
   "display_name": "Python 3",
   "language": "python",
   "name": "python3"
  },
  "language_info": {
   "codemirror_mode": {
    "name": "ipython",
    "version": 3
   },
   "file_extension": ".py",
   "mimetype": "text/x-python",
   "name": "python",
   "nbconvert_exporter": "python",
   "pygments_lexer": "ipython3",
   "version": "3.10.7"
  },
  "orig_nbformat": 4
 },
 "nbformat": 4,
 "nbformat_minor": 2
}
