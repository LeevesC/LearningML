{
 "cells": [
  {
   "attachments": {},
   "cell_type": "markdown",
   "metadata": {},
   "source": [
    "### Fancy Indexing"
   ]
  },
  {
   "cell_type": "code",
   "execution_count": 2,
   "metadata": {},
   "outputs": [
    {
     "name": "stdout",
     "output_type": "stream",
     "text": [
      "[ 0 10 20 30 40 50 60 70]\n",
      "[10 20 70]\n",
      "[ 0 99 99 30 40 50 60 99]\n"
     ]
    }
   ],
   "source": [
    "import numpy as np\n",
    "\n",
    "a = np.arange(0,80,10)\n",
    "print(a)\n",
    "\n",
    "indices = [1,2,-1]\n",
    "print(a[indices])\n",
    "# this is also work with setting\n",
    "a[indices] = 99\n",
    "print(a)"
   ]
  },
  {
   "cell_type": "code",
   "execution_count": 6,
   "metadata": {},
   "outputs": [
    {
     "name": "stdout",
     "output_type": "stream",
     "text": [
      "[30 40]\n"
     ]
    }
   ],
   "source": [
    "# indexing with boolean\n",
    "masks = np.array([0,0,0,1,1,0,0,0],dtype=bool)\n",
    "print(a[masks])"
   ]
  },
  {
   "cell_type": "code",
   "execution_count": 8,
   "metadata": {},
   "outputs": [
    {
     "name": "stdout",
     "output_type": "stream",
     "text": [
      "[ True  True False False  True False False]\n",
      "[-1 -3 -6]\n"
     ]
    }
   ],
   "source": [
    "test_bool = np.array([-1,-3,1,4,-6,9,3])\n",
    "negative = test_bool < 0\n",
    "print(negative)\n",
    "print(test_bool[negative]) # extract all elements < 0"
   ]
  },
  {
   "attachments": {},
   "cell_type": "markdown",
   "metadata": {},
   "source": [
    "### Fancy Indexing in 2-D"
   ]
  },
  {
   "cell_type": "code",
   "execution_count": 19,
   "metadata": {},
   "outputs": [
    {
     "name": "stdout",
     "output_type": "stream",
     "text": [
      "[[ 0  1  2  3  4  5]\n",
      " [ 6  7  8  9 10 11]\n",
      " [12 13 14 15 16 17]\n",
      " [18 19 20 21 22 23]\n",
      " [24 25 26 27 28 29]\n",
      " [30 31 32 33 34 35]]\n",
      "[ 0  7 14 21 28 35]\n",
      "[[18 20 22]\n",
      " [24 26 28]\n",
      " [30 32 34]]\n"
     ]
    }
   ],
   "source": [
    "a = np.arange(36).reshape(6,6)\n",
    "print(a)\n",
    "# extract the diagonal elements\n",
    "print(a[[0,1,2,3,4,5],[0,1,2,3,4,5]])\n",
    "# combining slice and fancy indexing\n",
    "print(a[3:,[0,2,4]])"
   ]
  },
  {
   "cell_type": "code",
   "execution_count": 16,
   "metadata": {},
   "outputs": [
    {
     "name": "stdout",
     "output_type": "stream",
     "text": [
      "[[ 0  1  2  3  4]\n",
      " [ 5  6  7  8  9]\n",
      " [10 11 12 13 14]\n",
      " [15 16 17 18 19]\n",
      " [20 21 22 23 24]]\n",
      "[ 2 13 16 19]\n",
      "[ 0  3  6  9 12 15 18 21 24]\n"
     ]
    }
   ],
   "source": [
    "# practice\n",
    "# 1. extract the elements indicated blue\n",
    "# 2. Given 5 by 5 matrix from 0 to 24, extract all the elements in the matrix that divisible by 3 using a boolean mask.\n",
    "a = np.arange(25).reshape(5,5)\n",
    "print(a)\n",
    "print(a[[0,2,3,3],[2,3,1,4]])\n",
    "mask_1 = np.array([i%3==0 for i in range(25)]).reshape(5,5)\n",
    "# above way of creating mask is cumbersome, below is a wiser way\n",
    "mask_2 = a%3 == 0\n",
    "print(a[mask_2])"
   ]
  },
  {
   "attachments": {},
   "cell_type": "markdown",
   "metadata": {},
   "source": [
    "### Computations with arrays\n",
    "1. Operations between multiple array objects are first checked for proper shape match.\n",
    "2. Mathematical operators (+ - * / log...) apply element by element, on the values.\n",
    "3. Reduction operation (mean std skew kurt sum...) apply to the whole array, unless an axis is specified.\n",
    "4. Missing values propagate unless explicitly ignored (nanmean)"
   ]
  },
  {
   "cell_type": "code",
   "execution_count": 15,
   "metadata": {},
   "outputs": [
    {
     "name": "stdout",
     "output_type": "stream",
     "text": [
      "[False False False  True  True False False]\n",
      "[ True  True  True  True  True False False]\n",
      "[-3 -1]\n"
     ]
    }
   ],
   "source": [
    "a = np.array([1,2,3,5,5,-3,-1])\n",
    "print(a==a.max())\n",
    "print(a>0) # logical operation element by element\n",
    "b = a<0\n",
    "print(a[b]) "
   ]
  },
  {
   "attachments": {},
   "cell_type": "markdown",
   "metadata": {},
   "source": [
    "#### The axis concept (indexing of sharp)\n",
    "* In 1-D array, there is only one axis (axis = 0)\n",
    "* In 2-D array, there are two axis (axis = 0, axis=1/-1)\n",
    "  * 0 axis,it runs downward down the rows(from top to bottom)\n",
    "  * 1 axis, it runs horizontally across the columns(from left to right)"
   ]
  },
  {
   "cell_type": "code",
   "execution_count": 7,
   "metadata": {},
   "outputs": [
    {
     "name": "stdout",
     "output_type": "stream",
     "text": [
      "[[1 2 3]\n",
      " [4 5 6]]\n",
      "21\n",
      "[5 7 9]\n",
      "[ 6 15]\n"
     ]
    }
   ],
   "source": [
    "a = np.array([[1,2,3],[4,5,6]])\n",
    "print(a)\n",
    "print(a.sum()) # whole numbers\n",
    "print(a.sum(axis=0)) # the sum of each columns (axis=-2 is the same with axis=0)\n",
    "print(a.sum(axis=1)) # the sum of each rows (axis=-1 is the same with axis=1)"
   ]
  },
  {
   "cell_type": "code",
   "execution_count": 46,
   "metadata": {},
   "outputs": [
    {
     "name": "stdout",
     "output_type": "stream",
     "text": [
      "[[2 3]\n",
      " [0 1]]\n",
      "0\n",
      "[0 1]\n",
      "[3 1]\n"
     ]
    },
    {
     "data": {
      "text/plain": [
       "array([2, 3])"
      ]
     },
     "execution_count": 46,
     "metadata": {},
     "output_type": "execute_result"
    }
   ],
   "source": [
    "# function combine with axis\n",
    "a = np.array([[2,3],[0,1]])\n",
    "print(a)\n",
    "print(a.min()) # the min value among whole elements\n",
    "print(a.min(axis=0)) # the min row\n",
    "print(a.max(axis=-1)) # the max column"
   ]
  },
  {
   "cell_type": "code",
   "execution_count": 51,
   "metadata": {},
   "outputs": [
    {
     "name": "stdout",
     "output_type": "stream",
     "text": [
      "[1 1 1]\n",
      "[0 0]\n",
      "5\n"
     ]
    }
   ],
   "source": [
    "# to understand the concept of argmax(), return the index(indices) of the maximum value in the array.\n",
    "a = np.array([[1, 2, 3], [4, 5, 6]])\n",
    "print(np.argmax(a, axis=0)) # find the max values for each columns and return its indices\n",
    "print(np.argmin(a, axis=-1)) # find the min values for each rows\n",
    "print(a.argmax()) # return the index along the flattened array"
   ]
  },
  {
   "attachments": {},
   "cell_type": "markdown",
   "metadata": {},
   "source": [
    "### Flattened indices and coordinate indices"
   ]
  },
  {
   "cell_type": "code",
   "execution_count": 59,
   "metadata": {},
   "outputs": [
    {
     "name": "stdout",
     "output_type": "stream",
     "text": [
      "[[1 2 3]\n",
      " [4 5 6]\n",
      " [7 8 9]]\n",
      "[1 2 3 4 5 6 7 8 9]\n",
      "8\n",
      "(2, 2)\n"
     ]
    }
   ],
   "source": [
    "a = np.arange(1,10).reshape(3,3)\n",
    "print(a)\n",
    "print(a.flatten()) # convert the 3*3 matrix in to array.\n",
    "\n",
    "# unravel_index is a function in the numpy module, can't be called on a numpy array instance.\n",
    "max_index_flat = a.argmax() # get the index of the max value in flattened array\n",
    "max_index_2d = np.unravel_index(max_index_flat, a.shape) # convert this flat index to a 2D index\n",
    "print(max_index_flat)\n",
    "print(max_index_2d)"
   ]
  },
  {
   "attachments": {},
   "cell_type": "markdown",
   "metadata": {},
   "source": [
    "### Find positions of elements that satisfying demands"
   ]
  },
  {
   "attachments": {},
   "cell_type": "markdown",
   "metadata": {},
   "source": [
    "'where' for providing coordinates from mask"
   ]
  },
  {
   "cell_type": "code",
   "execution_count": 6,
   "metadata": {},
   "outputs": [
    {
     "name": "stdout",
     "output_type": "stream",
     "text": [
      "[4 1 0 1]\n",
      "[ True False  True False]\n",
      "(array([0, 2]),)\n"
     ]
    }
   ],
   "source": [
    "a = np.arange(-2,2)**2 # squares each element\n",
    "print(a)\n",
    "mask = a%2==0\n",
    "print(mask)\n",
    "print(np.where(mask)) # coordinates are returned as a tuple of arrays, one for each axis"
   ]
  },
  {
   "cell_type": "code",
   "execution_count": 27,
   "metadata": {},
   "outputs": [
    {
     "name": "stdout",
     "output_type": "stream",
     "text": [
      "[[ 0  1  2  3  4]\n",
      " [ 5  6  7  8  9]\n",
      " [10 11 12 13 14]\n",
      " [15 16 17 18 19]\n",
      " [20 21 22 23 24]]\n",
      "[[ True False False  True False]\n",
      " [False  True False False  True]\n",
      " [False False  True False False]\n",
      " [ True False False  True False]\n",
      " [False  True False False  True]]\n",
      "(array([0, 0, 1, 1, 2, 3, 3, 4, 4]), array([0, 3, 1, 4, 2, 0, 3, 1, 4]))\n"
     ]
    }
   ],
   "source": [
    "a = np.arange(25).reshape(5,5)\n",
    "print(a)\n",
    "mask = a%3==0\n",
    "print(mask)\n",
    "print(np.where(mask))"
   ]
  },
  {
   "attachments": {},
   "cell_type": "markdown",
   "metadata": {},
   "source": [
    "'where' for constructing a new array by choosing values from other arrays of the same shape\n"
   ]
  },
  {
   "cell_type": "code",
   "execution_count": 32,
   "metadata": {},
   "outputs": [
    {
     "name": "stdout",
     "output_type": "stream",
     "text": [
      "[0 1 2 3]\n",
      "[ 0 -1 -2 -3]\n",
      "[ 0 -1  2 -3]\n"
     ]
    }
   ],
   "source": [
    "positives = np.arange(4)\n",
    "negatives = -positives\n",
    "mask = np.array([True, False, True, False])\n",
    "print(positives)\n",
    "print(negatives)\n",
    "print(np.where(mask, positives, negatives))"
   ]
  },
  {
   "cell_type": "code",
   "execution_count": 33,
   "metadata": {},
   "outputs": [
    {
     "name": "stdout",
     "output_type": "stream",
     "text": [
      "[1 0 1 0]\n"
     ]
    }
   ],
   "source": [
    "# scalar values.\n",
    "print(np.where(mask, 1, 0))"
   ]
  },
  {
   "cell_type": "code",
   "execution_count": 34,
   "metadata": {},
   "outputs": [
    {
     "name": "stdout",
     "output_type": "stream",
     "text": [
      "[0 0 2 0]\n"
     ]
    }
   ],
   "source": [
    "# both (other arrays and scalar values)\n",
    "print(np.where(mask, positives, 0))"
   ]
  },
  {
   "cell_type": "code",
   "execution_count": null,
   "metadata": {},
   "outputs": [],
   "source": []
  }
 ],
 "metadata": {
  "kernelspec": {
   "display_name": "base",
   "language": "python",
   "name": "python3"
  },
  "language_info": {
   "codemirror_mode": {
    "name": "ipython",
    "version": 3
   },
   "file_extension": ".py",
   "mimetype": "text/x-python",
   "name": "python",
   "nbconvert_exporter": "python",
   "pygments_lexer": "ipython3",
   "version": "3.9.13"
  },
  "orig_nbformat": 4
 },
 "nbformat": 4,
 "nbformat_minor": 2
}
